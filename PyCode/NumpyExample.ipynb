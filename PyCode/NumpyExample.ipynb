{
 "cells": [
  {
   "cell_type": "code",
   "execution_count": 3,
   "metadata": {},
   "outputs": [
    {
     "name": "stdout",
     "output_type": "stream",
     "text": [
      "[[1 2 3]\n",
      " [4 5 6]]\n"
     ]
    }
   ],
   "source": [
    "## https://mofanpy.com/\n",
    "\n",
    "## Numpy 合并\n",
    "## vertical stack  vertical => 垂直\n",
    "import numpy as np\n",
    "a = np.array([1, 2, 3])\n",
    "b = np.array([4, 5, 6])\n",
    "c = np.vstack((a, b))\n",
    "print(c)"
   ]
  },
  {
   "cell_type": "code",
   "execution_count": 4,
   "metadata": {},
   "outputs": [
    {
     "name": "stdout",
     "output_type": "stream",
     "text": [
      "[1 2 3 4 5 6]\n"
     ]
    }
   ],
   "source": [
    "## horizontal stack horizontal => 水平的\n",
    "d = np.hstack((a,b))\n",
    "print(d)"
   ]
  },
  {
   "cell_type": "code",
   "execution_count": 3,
   "metadata": {},
   "outputs": [
    {
     "name": "stdout",
     "output_type": "stream",
     "text": [
      "[[ 0  1  2  3  4  5]\n",
      " [ 6  7  8  9 10 11]\n",
      " [12 13 14 15 16 17]\n",
      " [18 19 20 21 22 23]]\n",
      "[[24 25 26 27 28 29]\n",
      " [30 31 32 33 34 35]\n",
      " [36 37 38 39 40 41]\n",
      " [42 43 44 45 46 47]]\n",
      "[[ 0  1  2  3  4  5]\n",
      " [ 6  7  8  9 10 11]\n",
      " [12 13 14 15 16 17]\n",
      " [18 19 20 21 22 23]\n",
      " [24 25 26 27 28 29]\n",
      " [30 31 32 33 34 35]\n",
      " [36 37 38 39 40 41]\n",
      " [42 43 44 45 46 47]]\n",
      "[[ 0  1  2  3  4  5 24 25 26 27 28 29]\n",
      " [ 6  7  8  9 10 11 30 31 32 33 34 35]\n",
      " [12 13 14 15 16 17 36 37 38 39 40 41]\n",
      " [18 19 20 21 22 23 42 43 44 45 46 47]]\n"
     ]
    }
   ],
   "source": [
    "## concatenate   多个array合并  concatenate => 连接\n",
    "import numpy as np\n",
    "aa = np.arange(24).reshape(4,6)\n",
    "bb = np.arange(24,48).reshape(4,6)\n",
    "e = np.concatenate((aa,bb), axis=0)\n",
    "f = np.concatenate((aa,bb), axis=1)\n",
    "print(aa)\n",
    "print(bb)\n",
    "print(e)\n",
    "print(f)"
   ]
  },
  {
   "cell_type": "code",
   "execution_count": 14,
   "metadata": {},
   "outputs": [
    {
     "name": "stdout",
     "output_type": "stream",
     "text": [
      "[[ 0  1  2  3]\n",
      " [ 4  5  6  7]\n",
      " [ 8  9 10 11]]\n",
      "[array([[0, 1, 2, 3]]), array([[4, 5, 6, 7]]), array([[ 8,  9, 10, 11]])]\n",
      "<class 'numpy.ndarray'>\n",
      "<class 'list'>\n",
      "Another method -------------- ####\n",
      "[array([[0, 1, 2, 3]]), array([[4, 5, 6, 7]]), array([[ 8,  9, 10, 11]])]\n",
      "[array([[0, 1],\n",
      "       [4, 5],\n",
      "       [8, 9]]), array([[ 2,  3],\n",
      "       [ 6,  7],\n",
      "       [10, 11]])]\n",
      "\n",
      "\n",
      "[array([[0, 1],\n",
      "       [4, 5],\n",
      "       [8, 9]]), array([[ 2],\n",
      "       [ 6],\n",
      "       [10]]), array([[ 3],\n",
      "       [ 7],\n",
      "       [11]])]\n"
     ]
    }
   ],
   "source": [
    "##  numpy array 分割  np.split(), 分割完之后是一个list,里面每一个元素都是一个array\n",
    "import numpy as np\n",
    "A = np.arange(12).reshape(3,4)\n",
    "print(A)\n",
    "print(np.split(A,3,axis=0))\n",
    "print(type(A))\n",
    "print(type(np.split(A,3,axis=0)))\n",
    "\n",
    "## 另一种分割方法 np.vsplit()  np.hsplit()\n",
    "print('Another method -------------- ####')\n",
    "print(np.vsplit(A,3))\n",
    "print(np.hsplit(A,2))\n",
    "\n",
    "## 不等量分割  np.array_split()\n",
    "print('\\n')\n",
    "print(np.array_split(A, 3, axis=1))"
   ]
  },
  {
   "cell_type": "code",
   "execution_count": 16,
   "metadata": {},
   "outputs": [
    {
     "name": "stdout",
     "output_type": "stream",
     "text": [
      "[99  2  3]\n",
      "[99  2  3]\n",
      "[99 99  3]\n",
      "[99 99 99]\n",
      "[99 99  3]\n"
     ]
    }
   ],
   "source": [
    "### numpy copy  深拷贝浅拷贝概念  对比list\n",
    "import numpy,copy\n",
    "aa = np.array([1,2,3])\n",
    "bb = aa\n",
    "aa[0] = 99\n",
    "print(bb)\n",
    "\n",
    "bb = aa[:]  ## 这种形式改变aa的值，bb的值也会随之改变\n",
    "print(aa)\n",
    "aa[1] = 99\n",
    "print(bb)\n",
    "\n",
    "cc = np.copy(aa)\n",
    "aa[2] = 99\n",
    "print(aa)\n",
    "print(cc)\n",
    "\n",
    "print('list ')"
   ]
  },
  {
   "cell_type": "code",
   "execution_count": 23,
   "metadata": {},
   "outputs": [
    {
     "name": "stdout",
     "output_type": "stream",
     "text": [
      "aa [99, 2, 3, [4, 5, 6]]\n",
      "bb [1, 2, 3, [4, 5, 6]]\n",
      "aa [99, 2, 3, [99, 5, 6]]\n",
      "bb [1, 2, 3, [99, 5, 6]]\n",
      "Demo copy method\n",
      "aa [99, 2, 3, [99, 5, 6]]\n",
      "bb [1, 2, 3, [99, 5, 6]]\n",
      "Demo deep copy method\n",
      "aa [99, 2, 3, [99, 5, 6]]\n",
      "bb [1, 2, 3, [4, 5, 6]]\n"
     ]
    }
   ],
   "source": [
    "### list copy\n",
    "import copy\n",
    "aa = [1,2,3,[4,5,6]]\n",
    "bb = aa[:]\n",
    "aa[0] = 99  ##改变aa列表最外层元素，bb的值是不变的\n",
    "print('aa', aa)\n",
    "print('bb', bb)\n",
    "aa[3][0] = 99  ##改变aa列表可变类型元素时，bb的值跟着改变的\n",
    "print('aa', aa)\n",
    "print('bb', bb)\n",
    "## 第三种方式\n",
    "print('Demo copy method')\n",
    "aa = [1,2,3,[4,5,6]]\n",
    "bb = copy.copy(aa)  ##相当于bb=aa[:]\n",
    "aa[3][0] = 99\n",
    "aa[0] = 99\n",
    "print('aa', aa)\n",
    "print('bb', bb)\n",
    "## 深拷贝\n",
    "print('Demo deep copy method')\n",
    "aa = [1,2,3,[4,5,6]]\n",
    "bb = copy.deepcopy(aa)\n",
    "aa[3][0] = 99\n",
    "aa[0] = 99\n",
    "print('aa', aa)\n",
    "print('bb', bb)"
   ]
  },
  {
   "cell_type": "code",
   "execution_count": null,
   "metadata": {},
   "outputs": [],
   "source": []
  }
 ],
 "metadata": {
  "kernelspec": {
   "display_name": "Python 3",
   "language": "python",
   "name": "python3"
  },
  "language_info": {
   "codemirror_mode": {
    "name": "ipython",
    "version": 3
   },
   "file_extension": ".py",
   "mimetype": "text/x-python",
   "name": "python",
   "nbconvert_exporter": "python",
   "pygments_lexer": "ipython3",
   "version": "3.7.0"
  }
 },
 "nbformat": 4,
 "nbformat_minor": 2
}
